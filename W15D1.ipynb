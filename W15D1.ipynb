{
 "cells": [
  {
   "cell_type": "code",
   "execution_count": 1,
   "id": "ce46f93f-f47b-45d0-8744-e7274514f049",
   "metadata": {
    "tags": []
   },
   "outputs": [
    {
     "name": "stdout",
     "output_type": "stream",
     "text": [
      "Dizionario auto completo: {'Ada': 'Punto', 'Ben': 'Multipla', 'Charlie': 'Golf', 'Debbie': '107'}\n"
     ]
    }
   ],
   "source": [
    "dizionario_auto = {\"Ada\": \"Punto\", \"Ben\": \"Multipla\", \"Charlie\": \"Golf\", \"Debbie\": \"107\"}\n",
    "\n",
    "print(\"Dizionario auto completo:\", dizionario_auto)"
   ]
  },
  {
   "cell_type": "code",
   "execution_count": 2,
   "id": "5c2d97e0-45d0-4d55-b601-d672dbadda94",
   "metadata": {
    "tags": []
   },
   "outputs": [
    {
     "name": "stdout",
     "output_type": "stream",
     "text": [
      "Auto di Debbie: 107\n"
     ]
    }
   ],
   "source": [
    "print(\"Auto di Debbie:\", dizionario_auto[\"Debbie\"])"
   ]
  },
  {
   "cell_type": "code",
   "execution_count": 3,
   "id": "4c7157d8-035d-4ac7-bf6a-053bf9068873",
   "metadata": {
    "tags": []
   },
   "outputs": [
    {
     "name": "stdout",
     "output_type": "stream",
     "text": [
      "Auto diverse da Multipla:\n",
      "Punto\n",
      "Golf\n",
      "107\n"
     ]
    }
   ],
   "source": [
    "print(\"Auto diverse da Multipla:\")\n",
    "for auto in dizionario_auto.values():\n",
    "    if auto != \"Multipla\":\n",
    "        print(auto)"
   ]
  },
  {
   "cell_type": "code",
   "execution_count": 4,
   "id": "8e29cb7f-9824-47c4-9c07-06d93b54b3e6",
   "metadata": {
    "tags": []
   },
   "outputs": [],
   "source": [
    "dizionario_auto = {\"Ada\": \"Punto\", \"Ben\": \"Multipla\", \"Charlie\": \"Golf\", \"Debbie\": \"107\", \"Emily\": \"A1\"}\n",
    "nuovi_proprietari = {\"Ben\": \"Polo\", \"Fred\": \"Octavia\", \"Grace\": \"Yaris\", \"Hugh\": \"Clio\"}"
   ]
  },
  {
   "cell_type": "code",
   "execution_count": 5,
   "id": "53603164-c90f-4644-bece-e529064d5dd7",
   "metadata": {
    "tags": []
   },
   "outputs": [
    {
     "name": "stdout",
     "output_type": "stream",
     "text": [
      "Dizionario auto aggiornato: {'Ada': 'Punto', 'Ben': 'Polo', 'Charlie': 'Golf', 'Debbie': '107', 'Emily': 'A1', 'Fred': 'Octavia', 'Grace': 'Yaris', 'Hugh': 'Clio'}\n"
     ]
    }
   ],
   "source": [
    "dizionario_auto.update(nuovi_proprietari)\n",
    "\n",
    "print(\"Dizionario auto aggiornato:\", dizionario_auto)"
   ]
  },
  {
   "cell_type": "code",
   "execution_count": 6,
   "id": "508e3e71-e611-4ee0-ba6b-e46f23c4b9e6",
   "metadata": {
    "tags": []
   },
   "outputs": [
    {
     "name": "stdout",
     "output_type": "stream",
     "text": [
      "Auto di Ben: Polo\n"
     ]
    }
   ],
   "source": [
    "print(\"Auto di Ben:\", dizionario_auto[\"Ben\"])"
   ]
  },
  {
   "cell_type": "code",
   "execution_count": 11,
   "id": "90cafa5f-ac17-4d89-9696-1f0600487d78",
   "metadata": {
    "tags": []
   },
   "outputs": [
    {
     "name": "stdin",
     "output_type": "stream",
     "text": [
      "Inserisci il numero di elementi nella lista:  5\n",
      "Inserisci il 1° numero:  10.1\n",
      "Inserisci il 2° numero:  9\n",
      "Inserisci il 3° numero:  4\n",
      "Inserisci il 4° numero:  3\n",
      "Inserisci il 5° numero:  4.55\n"
     ]
    },
    {
     "name": "stdout",
     "output_type": "stream",
     "text": [
      "Il minimo è: 3.0\n",
      "Il massimo è: 10.1\n"
     ]
    }
   ],
   "source": [
    "def trova_minimo_massimo():\n",
    "    numeri = []\n",
    "    n = int(input(\"Inserisci il numero di elementi nella lista: \"))\n",
    "    for indice in range(n):\n",
    "        numero = float(input(f\"Inserisci il {indice+1}° numero: \"))\n",
    "        numeri.append(numero)\n",
    "\n",
    "    minimo = min(numeri)\n",
    "    massimo = max(numeri)\n",
    "\n",
    "    return minimo, massimo\n",
    "\n",
    "minimo, massimo = trova_minimo_massimo()\n",
    "print(\"Il minimo è:\", minimo)\n",
    "print(\"Il massimo è:\", massimo)"
   ]
  },
  {
   "cell_type": "code",
   "execution_count": 12,
   "id": "412eab0c-99c4-448d-9482-b726bd9473dd",
   "metadata": {
    "tags": []
   },
   "outputs": [
    {
     "name": "stdin",
     "output_type": "stream",
     "text": [
      "Inserisci il numero di elementi nella lista:  4\n",
      "Inserisci il 1° numero:  2\n",
      "Inserisci il 2° numero:  5.9\n",
      "Inserisci il 3° numero:  3\n",
      "Inserisci il 4° numero:  1.9\n"
     ]
    },
    {
     "name": "stdout",
     "output_type": "stream",
     "text": [
      "I tre numeri più grandi sono: [5.9, 3.0, 2.0]\n"
     ]
    }
   ],
   "source": [
    "def tre_numeri_max():\n",
    "    lista_numeri = []\n",
    "    n = int(input(\"Inserisci il numero di elementi nella lista: \"))\n",
    "    for indice in range(n):\n",
    "        numero = float(input(f\"Inserisci il {indice+1}° numero: \"))\n",
    "        lista_numeri.append(numero)\n",
    "\n",
    "    if len(lista_numeri) <= 3:\n",
    "        return sorted(lista_numeri, reverse=True)\n",
    "\n",
    "    numeri_ordinati = sorted(set(lista_numeri), reverse=True)\n",
    "    return numeri_ordinati[:3]\n",
    "\n",
    "print(\"I tre numeri più grandi sono:\", tre_numeri_max())"
   ]
  },
  {
   "cell_type": "code",
   "execution_count": 1,
   "id": "1f4a6d85-c9b9-4e2f-96ac-aa047391286b",
   "metadata": {
    "tags": []
   },
   "outputs": [
    {
     "name": "stdin",
     "output_type": "stream",
     "text": [
      "Inserisci il numero di elementi nella lista:  2\n",
      "Inserisci il 1° numero:  4\n",
      "Inserisci il 2° numero:  8\n",
      "Inserisci il valore di K:  5\n"
     ]
    },
    {
     "name": "stdout",
     "output_type": "stream",
     "text": [
      "La media dei numeri maggiori o uguali a K è: 8.0\n"
     ]
    }
   ],
   "source": [
    "def media_numeri_maggiore_di_K():\n",
    "    lista_numeri = []\n",
    "    n = int(input(\"Inserisci il numero di elementi nella lista: \"))\n",
    "    for indice in range(n):\n",
    "        numero = float(input(f\"Inserisci il {indice+1}° numero: \"))\n",
    "        lista_numeri.append(numero)\n",
    "\n",
    "    K = float(input(\"Inserisci il valore di K: \"))\n",
    "\n",
    "    numeri_validi = [numero for numero in lista_numeri if numero >= K]\n",
    "\n",
    "    if not numeri_validi:\n",
    "        print(\"Non ci sono numeri maggiori o uguali a\", K)\n",
    "        return None\n",
    "\n",
    "    media = sum(numeri_validi) / len(numeri_validi)\n",
    "    return media\n",
    "\n",
    "media = media_numeri_maggiore_di_K()\n",
    "if media is not None:\n",
    "    print(\"La media dei numeri maggiori o uguali a K è:\", media)"
   ]
  },
  {
   "cell_type": "code",
   "execution_count": 2,
   "id": "0c76396b-58ce-4cf3-bab4-596897e8ff37",
   "metadata": {},
   "outputs": [
    {
     "name": "stdin",
     "output_type": "stream",
     "text": [
      "Inserisci il numero di numeri nella lista:  4\n",
      "Inserisci il 1° numero:  1\n",
      "Inserisci il 2° numero:  5\n",
      "Inserisci il 3° numero:  64\n",
      "Inserisci il 4° numero:  2\n"
     ]
    },
    {
     "name": "stdout",
     "output_type": "stream",
     "text": [
      "*\n",
      "*****\n",
      "****************************************************************\n",
      "**\n"
     ]
    }
   ],
   "source": [
    "def aster():\n",
    "    numeri = []\n",
    "    n = int(input(\"Inserisci il numero di numeri nella lista: \"))\n",
    "    for indice in range(n):\n",
    "        numero = int(input(f\"Inserisci il {indice+1}° numero: \"))\n",
    "        numeri.append(numero)\n",
    "    \n",
    "    for numero in numeri:\n",
    "        print('*' * numero)\n",
    "        \n",
    "aster()"
   ]
  }
 ],
 "metadata": {
  "kernelspec": {
   "display_name": "Python 3 (ipykernel)",
   "language": "python",
   "name": "python3"
  },
  "language_info": {
   "codemirror_mode": {
    "name": "ipython",
    "version": 3
   },
   "file_extension": ".py",
   "mimetype": "text/x-python",
   "name": "python",
   "nbconvert_exporter": "python",
   "pygments_lexer": "ipython3",
   "version": "3.11.5"
  }
 },
 "nbformat": 4,
 "nbformat_minor": 5
}
